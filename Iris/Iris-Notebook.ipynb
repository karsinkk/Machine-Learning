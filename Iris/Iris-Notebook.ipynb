{
 "cells": [
  {
   "cell_type": "code",
   "execution_count": 1,
   "metadata": {
    "collapsed": true
   },
   "outputs": [],
   "source": [
    "__author__ = 'Karsin'\n"
   ]
  },
  {
   "cell_type": "code",
   "execution_count": 2,
   "metadata": {
    "collapsed": true
   },
   "outputs": [],
   "source": [
    "import numpy as np\n",
    "import pandas as pd\n",
    "import math\n",
    "import os"
   ]
  },
  {
   "cell_type": "code",
   "execution_count": 3,
   "metadata": {
    "collapsed": true
   },
   "outputs": [],
   "source": [
    "# Getting the Data\n",
    "CWD = os.getcwd()\n",
    "path = CWD + \"\\Data\\Training.csv\"\n",
    "ColNames = ['Sepal Length', 'Sepal Width', 'Petal Length', 'Petal Width', 'Class']\n",
    "train = pd.read_csv(path, names=ColNames)\n",
    "Y = train.Class.tolist()\n",
    "X = np.genfromtxt(path, delimiter=',')"
   ]
  },
  {
   "cell_type": "code",
   "execution_count": 4,
   "metadata": {
    "collapsed": true
   },
   "outputs": [],
   "source": [
    "# Cleaning the Data and generating params\n",
    "X = X[:, :-1]\n",
    "m = X.shape[0]\n",
    "n = X.shape[1] + 1\n",
    "X = np.c_[np.ones(m), X]\n",
    "X = np.matrix(X)\n",
    "y = np.hstack((np.matrix(list(map(lambda x: int(x == \"Iris-setosa\"), Y))).T, np.matrix(list(map(lambda x: int(x == \"Iris-versicolor\"), Y))).T,np.matrix(list(map(lambda x: int(x == \"Iris-virginica\"), Y))).T))\n",
    "theta = np.zeros((n, 3))\n",
    "lamb = .0001\n",
    "alpha = .15\n",
    "iter = 100"
   ]
  },
  {
   "cell_type": "code",
   "execution_count": 5,
   "metadata": {
    "collapsed": true
   },
   "outputs": [],
   "source": [
    "#  Logistic Regression Functions\n",
    "sigmoid = np.vectorize(lambda x: 1 / (1 + math.exp(-x)))\n",
    "\n",
    "log10 = np.vectorize(math.log10)\n",
    "\n",
    "def cost(_x, _y, _theta, _lamb):\n",
    "     j = -(1 / m) * (_y.T.dot(log10(sigmoid(_x.dot(_theta.T))).T) + ((1 - _y).T.dot(log10(sigmoid(1 - (_x.dot(_theta.T)))).T))) + (_lamb / 2 * m) * (_theta.dot(_theta.T))\n",
    "     return j\n",
    "\n",
    "def descent(_x, _y, _theta, _lamb, _alpha, _iter):\n",
    "\n",
    "     _theta = np.matrix(_theta).T\n",
    "\n",
    "     for i in range(1,_iter + 1):\n",
    "          g = _theta\n",
    "          g[0,:] = g[0,:] - (_alpha / m) * (sigmoid(_x.dot(g)) - _y[:,0]).T.dot(_x[:,0])\n",
    "          g[1:,] = g[1:,] * (1 - (_alpha * _lamb / m)) - (_alpha / m) * (_x[:,1:]).T.dot(sigmoid(_x.dot(g)) - _y)\n",
    "          _theta = g\n",
    "     return _theta\n"
   ]
  },
  {
   "cell_type": "code",
   "execution_count": 6,
   "metadata": {
    "collapsed": true
   },
   "outputs": [],
   "source": [
    "# Training(Calculating Theta using Gradient Descent)\n",
    "for k in range(0,y.shape[1]):\n",
    "\n",
    "     theta[:,k] = descent(X,y[:,k],theta[:,k],lamb,alpha,iter).T"
   ]
  },
  {
   "cell_type": "code",
   "execution_count": 10,
   "metadata": {
    "collapsed": true
   },
   "outputs": [],
   "source": [
    "# Testing\n",
    "path = CWD + \"\\Data\\Iris.csv\"\n",
    "ColNames = ['Sepal Length', 'Sepal Width', 'Petal Length', 'Petal Width', 'Class']\n",
    "test = pd.read_csv(path, names=ColNames)\n",
    "Y = test.Class.tolist()\n",
    "X = np.genfromtxt(path, delimiter=',')\n",
    "\n",
    "X = X[:, :-1]\n",
    "m = X.shape[0]\n",
    "n = X.shape[1] + 1\n",
    "X = np.c_[np.ones(m), X]\n",
    "X = np.matrix(X)\n",
    "Solution = np.hstack((np.matrix(list(map(lambda x: int(x == \"Iris-setosa\"), Y))).T, np.matrix(list(map(lambda x: int(x == \"Iris-versicolor\"), Y))).T,np.matrix(list(map(lambda x: int(x == \"Iris-virginica\"), Y))).T))\n",
    "Solution = np.argmax(Solution,axis=1)\n",
    "\n",
    "Y = sigmoid(X.dot(theta))\n",
    "Result = (np.argmax(Y,axis=1))"
   ]
  },
  {
   "cell_type": "code",
   "execution_count": 11,
   "metadata": {
    "collapsed": false
   },
   "outputs": [
    {
     "name": "stdout",
     "output_type": "stream",
     "text": [
      "\n",
      " Accuracy is :  97.3333333333 %\n"
     ]
    }
   ],
   "source": [
    "# Result Analysis\n",
    "Comparison = np.concatenate((Result,Solution),axis=1)\n",
    "\n",
    "#print(\"The Outcome is :\\n\",Comparison,\"\\n\",Result.size)\n",
    "\n",
    "Accuracy = np.sum(np.matrix(list(map(lambda x,x1: int(x == x1), Solution, Result)))) / Result.size * 100\n",
    "\n",
    "print(\"\\n Accuracy is : \",Accuracy,\"%\")"
   ]
  }
 ],
 "metadata": {
  "kernelspec": {
   "display_name": "Python 3",
   "language": "python",
   "name": "python3"
  },
  "language_info": {
   "codemirror_mode": {
    "name": "ipython",
    "version": 3
   },
   "file_extension": ".py",
   "mimetype": "text/x-python",
   "name": "python",
   "nbconvert_exporter": "python",
   "pygments_lexer": "ipython3",
   "version": "3.5.1"
  }
 },
 "nbformat": 4,
 "nbformat_minor": 0
}
